{
 "cells": [
  {
   "cell_type": "markdown",
   "id": "de97d695",
   "metadata": {},
   "source": [
    "# Table of Contents\n",
    "01. Importing Libraries\n",
    "02. Importing Data\n",
    "03. Comparing Customer Profiles by Region\n",
    "04. Comparing Family Status and Departments"
   ]
  },
  {
   "cell_type": "markdown",
   "id": "7281191d",
   "metadata": {},
   "source": [
    "# 01. Importing Libraries"
   ]
  },
  {
   "cell_type": "code",
   "execution_count": 1,
   "id": "66e21ce1",
   "metadata": {},
   "outputs": [],
   "source": [
    "# Import libraries\n",
    "import pandas as pd\n",
    "import numpy as np\n",
    "import os\n",
    "import seaborn as sns\n",
    "import matplotlib.pyplot as plt\n",
    "import scipy"
   ]
  },
  {
   "cell_type": "markdown",
   "id": "551ba0c3",
   "metadata": {},
   "source": [
    "# 02. Importing Data"
   ]
  },
  {
   "cell_type": "code",
   "execution_count": 2,
   "id": "d0dccd1c",
   "metadata": {},
   "outputs": [],
   "source": [
    "# Create path\n",
    "path = r'C:\\Users\\erj03\\OneDrive\\Documents\\Achievment 4- Instacart Basket Analysis'"
   ]
  },
  {
   "cell_type": "code",
   "execution_count": 3,
   "id": "d9ebeb94",
   "metadata": {},
   "outputs": [],
   "source": [
    "# Import data set\n",
    "df = pd.read_pickle(os.path.join(path, '02 Data', 'Prepared Data', 'final2_dataframe.pkl'))"
   ]
  },
  {
   "cell_type": "code",
   "execution_count": null,
   "id": "e2bfd992",
   "metadata": {},
   "outputs": [],
   "source": [
    "# View dataframe\n",
    "df.head()"
   ]
  },
  {
   "cell_type": "code",
   "execution_count": null,
   "id": "0884153c",
   "metadata": {},
   "outputs": [],
   "source": [
    "# Create list of columns\n",
    "df.columns"
   ]
  },
  {
   "cell_type": "markdown",
   "id": "faa6a702",
   "metadata": {},
   "source": [
    "# 03. Comparing Customer Profiles by Region"
   ]
  },
  {
   "cell_type": "markdown",
   "id": "e64e9b9c",
   "metadata": {},
   "source": [
    "Compare your customer profiles with regions and departments. Can you identify a link between them? Customers may demonstrate different behaviors across regions, which could make this information important."
   ]
  },
  {
   "cell_type": "code",
   "execution_count": null,
   "id": "b658c6c4",
   "metadata": {},
   "outputs": [],
   "source": [
    "# Create subsets of data for each region\n",
    "northeast = df[df['region'] == 'Northeast']\n",
    "midwest = df[df['region'] == 'Midwest']\n",
    "south = df[df['region'] == 'South']\n",
    "west = df[df['region'] == 'West']"
   ]
  },
  {
   "cell_type": "markdown",
   "id": "a3b29826",
   "metadata": {},
   "source": [
    "## Average Days Between Orders"
   ]
  },
  {
   "cell_type": "code",
   "execution_count": null,
   "id": "e1e7374b",
   "metadata": {},
   "outputs": [],
   "source": [
    "# Look at ordering behavior of age/income profile in each region\n",
    "northeast.groupby('age_income_loc')['days_since_prior_order'].agg(['mean'])"
   ]
  },
  {
   "cell_type": "code",
   "execution_count": null,
   "id": "8d7b8f31",
   "metadata": {},
   "outputs": [],
   "source": [
    "midwest.groupby('age_income_loc')['days_since_prior_order'].agg(['mean'])"
   ]
  },
  {
   "cell_type": "code",
   "execution_count": null,
   "id": "67addacc",
   "metadata": {},
   "outputs": [],
   "source": [
    "south.groupby('age_income_loc')['days_since_prior_order'].agg(['mean'])"
   ]
  },
  {
   "cell_type": "code",
   "execution_count": null,
   "id": "522ebd41",
   "metadata": {},
   "outputs": [],
   "source": [
    "west.groupby('age_income_loc')['days_since_prior_order'].agg(['mean'])"
   ]
  },
  {
   "cell_type": "markdown",
   "id": "780570f4",
   "metadata": {},
   "source": [
    "In all regions except for the midwest high income young adults average the fewest days inbetween orders. In the midwest the average most days inbetween orders."
   ]
  },
  {
   "cell_type": "code",
   "execution_count": null,
   "id": "7cb725c0",
   "metadata": {},
   "outputs": [],
   "source": [
    "# Look at ordering behavior of family status profile for each region\n",
    "northeast.groupby('family_status')['days_since_prior_order'].agg(['mean'])"
   ]
  },
  {
   "cell_type": "code",
   "execution_count": null,
   "id": "5ab6f478",
   "metadata": {},
   "outputs": [],
   "source": [
    "midwest.groupby('family_status')['days_since_prior_order'].agg(['mean'])"
   ]
  },
  {
   "cell_type": "code",
   "execution_count": null,
   "id": "ba8f380b",
   "metadata": {},
   "outputs": [],
   "source": [
    "south.groupby('family_status')['days_since_prior_order'].agg(['mean'])"
   ]
  },
  {
   "cell_type": "code",
   "execution_count": null,
   "id": "77e3597e",
   "metadata": {},
   "outputs": [],
   "source": [
    "west.groupby('family_status')['days_since_prior_order'].agg(['mean'])"
   ]
  },
  {
   "cell_type": "markdown",
   "id": "3325e362",
   "metadata": {},
   "source": [
    "There are no significant differences in the average days between orders of the different family status profiles."
   ]
  },
  {
   "cell_type": "markdown",
   "id": "68d108ab",
   "metadata": {},
   "source": [
    "## Average Price Spent per Item"
   ]
  },
  {
   "cell_type": "code",
   "execution_count": null,
   "id": "dd0fd83e",
   "metadata": {},
   "outputs": [],
   "source": [
    "# Look at average price of an item for age/income profiles in each region\n",
    "northeast.groupby('age_income_loc')['prices'].agg(['mean'])"
   ]
  },
  {
   "cell_type": "code",
   "execution_count": null,
   "id": "652585b7",
   "metadata": {},
   "outputs": [],
   "source": [
    "midwest.groupby('age_income_loc')['prices'].agg(['mean'])"
   ]
  },
  {
   "cell_type": "code",
   "execution_count": null,
   "id": "1059971c",
   "metadata": {},
   "outputs": [],
   "source": [
    "south.groupby('age_income_loc')['prices'].agg(['mean'])"
   ]
  },
  {
   "cell_type": "code",
   "execution_count": null,
   "id": "7a7bef19",
   "metadata": {},
   "outputs": [],
   "source": [
    "west.groupby('age_income_loc')['prices'].agg(['mean'])"
   ]
  },
  {
   "cell_type": "markdown",
   "id": "db00709f",
   "metadata": {},
   "source": [
    "There is no significant difference in the average price spent on an item for the age/income profiles in different regions."
   ]
  },
  {
   "cell_type": "code",
   "execution_count": null,
   "id": "f62f6823",
   "metadata": {},
   "outputs": [],
   "source": [
    "# Look at average price of an item for family status profiles in each region\n",
    "northeast.groupby('family_status')['prices'].agg(['mean'])"
   ]
  },
  {
   "cell_type": "code",
   "execution_count": null,
   "id": "f657c9e5",
   "metadata": {},
   "outputs": [],
   "source": [
    "midwest.groupby('family_status')['prices'].agg(['mean'])"
   ]
  },
  {
   "cell_type": "code",
   "execution_count": null,
   "id": "4500aa00",
   "metadata": {},
   "outputs": [],
   "source": [
    "south.groupby('family_status')['prices'].agg(['mean'])"
   ]
  },
  {
   "cell_type": "code",
   "execution_count": null,
   "id": "cf317370",
   "metadata": {},
   "outputs": [],
   "source": [
    "west.groupby('family_status')['prices'].agg(['mean'])"
   ]
  },
  {
   "cell_type": "markdown",
   "id": "6b15cfe2",
   "metadata": {},
   "source": [
    "There is no significant difference in the average price spent on an item for the family status profiles in different regions."
   ]
  },
  {
   "cell_type": "markdown",
   "id": "20ffa495",
   "metadata": {},
   "source": [
    "# 04. Comparing Family Status and Departments"
   ]
  },
  {
   "cell_type": "code",
   "execution_count": 4,
   "id": "9393134b",
   "metadata": {},
   "outputs": [],
   "source": [
    "mar_par = df[df['family_status'] == 'married, parent']\n",
    "unmar_par = df[df['family_status'] == 'unmarried, parent']\n",
    "unmar_cf = df[df['family_status'] == 'unmarried, childfree']"
   ]
  },
  {
   "cell_type": "code",
   "execution_count": 5,
   "id": "7111f7b1",
   "metadata": {},
   "outputs": [
    {
     "data": {
      "text/plain": [
       "department_id\n",
       "4     6654218\n",
       "16    3788598\n",
       "19    2029589\n",
       "7     1889052\n",
       "1     1569050\n",
       "13    1318340\n",
       "3      821881\n",
       "15     752030\n",
       "20     735689\n",
       "9      609663\n",
       "17     522667\n",
       "12     500862\n",
       "14     493725\n",
       "11     314254\n",
       "18     297162\n",
       "6      188466\n",
       "5      105682\n",
       "8       67513\n",
       "21      48486\n",
       "2       25205\n",
       "10      24621\n",
       "Name: count, dtype: int64"
      ]
     },
     "execution_count": 5,
     "metadata": {},
     "output_type": "execute_result"
    }
   ],
   "source": [
    "# Department value counts for married parent customers\n",
    "mar_par['department_id'].value_counts()"
   ]
  },
  {
   "cell_type": "code",
   "execution_count": 6,
   "id": "4591d25b",
   "metadata": {},
   "outputs": [
    {
     "data": {
      "text/plain": [
       "department_id\n",
       "4     449628\n",
       "16    260787\n",
       "19    137163\n",
       "7     124629\n",
       "1     108533\n",
       "13     90272\n",
       "3      56142\n",
       "15     51190\n",
       "20     50415\n",
       "9      41702\n",
       "17     35226\n",
       "14     34731\n",
       "12     33981\n",
       "11     21312\n",
       "18     20146\n",
       "6      13074\n",
       "5       8896\n",
       "8       5620\n",
       "21      3571\n",
       "2       1911\n",
       "10      1674\n",
       "Name: count, dtype: int64"
      ]
     },
     "execution_count": 6,
     "metadata": {},
     "output_type": "execute_result"
    }
   ],
   "source": [
    "# Department value ocounts for unmarried parent customers\n",
    "unmar_par['department_id'].value_counts()"
   ]
  },
  {
   "cell_type": "code",
   "execution_count": 7,
   "id": "51d1456b",
   "metadata": {},
   "outputs": [
    {
     "data": {
      "text/plain": [
       "department_id\n",
       "4     2375445\n",
       "16    1349362\n",
       "19     720798\n",
       "7      674442\n",
       "1      557160\n",
       "13     466757\n",
       "3      294405\n",
       "20     265145\n",
       "15     264838\n",
       "9      215262\n",
       "17     180773\n",
       "14     174577\n",
       "12     174084\n",
       "11     112006\n",
       "18     106494\n",
       "6       67713\n",
       "5       39118\n",
       "8       24583\n",
       "21      17088\n",
       "2        9175\n",
       "10       8278\n",
       "Name: count, dtype: int64"
      ]
     },
     "execution_count": 7,
     "metadata": {},
     "output_type": "execute_result"
    }
   ],
   "source": [
    "# Department value counts for unmarried childfree customers\n",
    "unmar_cf['department_id'].value_counts()"
   ]
  },
  {
   "cell_type": "markdown",
   "id": "fdd533ff",
   "metadata": {},
   "source": [
    "The top departments for all family status profiles are the same and match with the top departments for all customers."
   ]
  },
  {
   "cell_type": "code",
   "execution_count": null,
   "id": "fbf9a1c5",
   "metadata": {},
   "outputs": [],
   "source": []
  }
 ],
 "metadata": {
  "kernelspec": {
   "display_name": "Python 3 (ipykernel)",
   "language": "python",
   "name": "python3"
  },
  "language_info": {
   "codemirror_mode": {
    "name": "ipython",
    "version": 3
   },
   "file_extension": ".py",
   "mimetype": "text/x-python",
   "name": "python",
   "nbconvert_exporter": "python",
   "pygments_lexer": "ipython3",
   "version": "3.11.5"
  }
 },
 "nbformat": 4,
 "nbformat_minor": 5
}
