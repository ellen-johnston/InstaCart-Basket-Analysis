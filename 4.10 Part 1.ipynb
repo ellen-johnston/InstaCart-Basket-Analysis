{
 "cells": [
  {
   "cell_type": "markdown",
   "id": "f224deb0",
   "metadata": {},
   "source": [
    "# Table of Contents\n",
    "01. Importing Libraries\n",
    "02. Importing Data\n",
    "03. Security Implications\n",
    "04. Regional Segmentation\n",
    "05. Excluding Low-Activity Customers\n",
    "06. Customer Profiling\n",
    "07. Aggregating Data from Customer Profiles\n",
    "08. Exporting Data"
   ]
  },
  {
   "cell_type": "markdown",
   "id": "4a6943ce",
   "metadata": {},
   "source": [
    "# 01. Importing Libraries"
   ]
  },
  {
   "cell_type": "code",
   "execution_count": 1,
   "id": "64668199",
   "metadata": {},
   "outputs": [],
   "source": [
    "# Import libraries\n",
    "import pandas as pd\n",
    "import numpy as np\n",
    "import os\n",
    "import seaborn as sns\n",
    "import matplotlib.pyplot as plt\n",
    "import scipy"
   ]
  },
  {
   "cell_type": "markdown",
   "id": "4ad6eb7f",
   "metadata": {},
   "source": [
    "# 02. Importing Data"
   ]
  },
  {
   "cell_type": "code",
   "execution_count": 2,
   "id": "04e5fbd9",
   "metadata": {},
   "outputs": [],
   "source": [
    "# Create path\n",
    "path = r'C:\\Users\\erj03\\OneDrive\\Documents\\Achievment 4- Instacart Basket Analysis'"
   ]
  },
  {
   "cell_type": "code",
   "execution_count": 3,
   "id": "ca8bb42d",
   "metadata": {},
   "outputs": [],
   "source": [
    "# Import data set\n",
    "ords_prods_merge = pd.read_pickle(os.path.join(path, '02 Data', 'Prepared Data', 'new_dataframe.pkl'))"
   ]
  },
  {
   "cell_type": "code",
   "execution_count": 4,
   "id": "b10cd7d4",
   "metadata": {},
   "outputs": [
    {
     "data": {
      "text/html": [
       "<div>\n",
       "<style scoped>\n",
       "    .dataframe tbody tr th:only-of-type {\n",
       "        vertical-align: middle;\n",
       "    }\n",
       "\n",
       "    .dataframe tbody tr th {\n",
       "        vertical-align: top;\n",
       "    }\n",
       "\n",
       "    .dataframe thead th {\n",
       "        text-align: right;\n",
       "    }\n",
       "</style>\n",
       "<table border=\"1\" class=\"dataframe\">\n",
       "  <thead>\n",
       "    <tr style=\"text-align: right;\">\n",
       "      <th></th>\n",
       "      <th>order_id</th>\n",
       "      <th>user_id</th>\n",
       "      <th>user_order_number</th>\n",
       "      <th>orders_day_of_week</th>\n",
       "      <th>order_hour_of_day</th>\n",
       "      <th>days_since_prior_order</th>\n",
       "      <th>product_id</th>\n",
       "      <th>add_to_cart_order</th>\n",
       "      <th>reordered</th>\n",
       "      <th>_merge</th>\n",
       "      <th>...</th>\n",
       "      <th>First Name</th>\n",
       "      <th>Surname</th>\n",
       "      <th>Gender</th>\n",
       "      <th>STATE</th>\n",
       "      <th>Age</th>\n",
       "      <th>date_joined</th>\n",
       "      <th>n_dependants</th>\n",
       "      <th>marital_status</th>\n",
       "      <th>income</th>\n",
       "      <th>merge_indicator</th>\n",
       "    </tr>\n",
       "  </thead>\n",
       "  <tbody>\n",
       "    <tr>\n",
       "      <th>0</th>\n",
       "      <td>2539329</td>\n",
       "      <td>1</td>\n",
       "      <td>1</td>\n",
       "      <td>2</td>\n",
       "      <td>8</td>\n",
       "      <td>NaN</td>\n",
       "      <td>196</td>\n",
       "      <td>1</td>\n",
       "      <td>0</td>\n",
       "      <td>both</td>\n",
       "      <td>...</td>\n",
       "      <td>Linda</td>\n",
       "      <td>Nguyen</td>\n",
       "      <td>Female</td>\n",
       "      <td>Alabama</td>\n",
       "      <td>31</td>\n",
       "      <td>2/17/2019</td>\n",
       "      <td>3</td>\n",
       "      <td>married</td>\n",
       "      <td>40423</td>\n",
       "      <td>both</td>\n",
       "    </tr>\n",
       "    <tr>\n",
       "      <th>1</th>\n",
       "      <td>2398795</td>\n",
       "      <td>1</td>\n",
       "      <td>2</td>\n",
       "      <td>3</td>\n",
       "      <td>7</td>\n",
       "      <td>15.0</td>\n",
       "      <td>196</td>\n",
       "      <td>1</td>\n",
       "      <td>1</td>\n",
       "      <td>both</td>\n",
       "      <td>...</td>\n",
       "      <td>Linda</td>\n",
       "      <td>Nguyen</td>\n",
       "      <td>Female</td>\n",
       "      <td>Alabama</td>\n",
       "      <td>31</td>\n",
       "      <td>2/17/2019</td>\n",
       "      <td>3</td>\n",
       "      <td>married</td>\n",
       "      <td>40423</td>\n",
       "      <td>both</td>\n",
       "    </tr>\n",
       "    <tr>\n",
       "      <th>2</th>\n",
       "      <td>473747</td>\n",
       "      <td>1</td>\n",
       "      <td>3</td>\n",
       "      <td>3</td>\n",
       "      <td>12</td>\n",
       "      <td>21.0</td>\n",
       "      <td>196</td>\n",
       "      <td>1</td>\n",
       "      <td>1</td>\n",
       "      <td>both</td>\n",
       "      <td>...</td>\n",
       "      <td>Linda</td>\n",
       "      <td>Nguyen</td>\n",
       "      <td>Female</td>\n",
       "      <td>Alabama</td>\n",
       "      <td>31</td>\n",
       "      <td>2/17/2019</td>\n",
       "      <td>3</td>\n",
       "      <td>married</td>\n",
       "      <td>40423</td>\n",
       "      <td>both</td>\n",
       "    </tr>\n",
       "    <tr>\n",
       "      <th>3</th>\n",
       "      <td>2254736</td>\n",
       "      <td>1</td>\n",
       "      <td>4</td>\n",
       "      <td>4</td>\n",
       "      <td>7</td>\n",
       "      <td>29.0</td>\n",
       "      <td>196</td>\n",
       "      <td>1</td>\n",
       "      <td>1</td>\n",
       "      <td>both</td>\n",
       "      <td>...</td>\n",
       "      <td>Linda</td>\n",
       "      <td>Nguyen</td>\n",
       "      <td>Female</td>\n",
       "      <td>Alabama</td>\n",
       "      <td>31</td>\n",
       "      <td>2/17/2019</td>\n",
       "      <td>3</td>\n",
       "      <td>married</td>\n",
       "      <td>40423</td>\n",
       "      <td>both</td>\n",
       "    </tr>\n",
       "    <tr>\n",
       "      <th>4</th>\n",
       "      <td>431534</td>\n",
       "      <td>1</td>\n",
       "      <td>5</td>\n",
       "      <td>4</td>\n",
       "      <td>15</td>\n",
       "      <td>28.0</td>\n",
       "      <td>196</td>\n",
       "      <td>1</td>\n",
       "      <td>1</td>\n",
       "      <td>both</td>\n",
       "      <td>...</td>\n",
       "      <td>Linda</td>\n",
       "      <td>Nguyen</td>\n",
       "      <td>Female</td>\n",
       "      <td>Alabama</td>\n",
       "      <td>31</td>\n",
       "      <td>2/17/2019</td>\n",
       "      <td>3</td>\n",
       "      <td>married</td>\n",
       "      <td>40423</td>\n",
       "      <td>both</td>\n",
       "    </tr>\n",
       "  </tbody>\n",
       "</table>\n",
       "<p>5 rows × 33 columns</p>\n",
       "</div>"
      ],
      "text/plain": [
       "   order_id  user_id  user_order_number  orders_day_of_week  \\\n",
       "0   2539329        1                  1                   2   \n",
       "1   2398795        1                  2                   3   \n",
       "2    473747        1                  3                   3   \n",
       "3   2254736        1                  4                   4   \n",
       "4    431534        1                  5                   4   \n",
       "\n",
       "   order_hour_of_day  days_since_prior_order  product_id  add_to_cart_order  \\\n",
       "0                  8                     NaN         196                  1   \n",
       "1                  7                    15.0         196                  1   \n",
       "2                 12                    21.0         196                  1   \n",
       "3                  7                    29.0         196                  1   \n",
       "4                 15                    28.0         196                  1   \n",
       "\n",
       "   reordered _merge  ... First Name  Surname  Gender    STATE Age date_joined  \\\n",
       "0          0   both  ...      Linda   Nguyen  Female  Alabama  31   2/17/2019   \n",
       "1          1   both  ...      Linda   Nguyen  Female  Alabama  31   2/17/2019   \n",
       "2          1   both  ...      Linda   Nguyen  Female  Alabama  31   2/17/2019   \n",
       "3          1   both  ...      Linda   Nguyen  Female  Alabama  31   2/17/2019   \n",
       "4          1   both  ...      Linda   Nguyen  Female  Alabama  31   2/17/2019   \n",
       "\n",
       "  n_dependants  marital_status income  merge_indicator  \n",
       "0            3         married  40423             both  \n",
       "1            3         married  40423             both  \n",
       "2            3         married  40423             both  \n",
       "3            3         married  40423             both  \n",
       "4            3         married  40423             both  \n",
       "\n",
       "[5 rows x 33 columns]"
      ]
     },
     "execution_count": 4,
     "metadata": {},
     "output_type": "execute_result"
    }
   ],
   "source": [
    "# View data frame\n",
    "ords_prods_merge.head()"
   ]
  },
  {
   "cell_type": "code",
   "execution_count": 5,
   "id": "779ca682",
   "metadata": {},
   "outputs": [
    {
     "data": {
      "text/plain": [
       "(32404859, 33)"
      ]
     },
     "execution_count": 5,
     "metadata": {},
     "output_type": "execute_result"
    }
   ],
   "source": [
    "# Check dimensions of dataframe\n",
    "ords_prods_merge.shape"
   ]
  },
  {
   "cell_type": "markdown",
   "id": "d49a37d5",
   "metadata": {},
   "source": [
    "# 03. Security Implications"
   ]
  },
  {
   "cell_type": "markdown",
   "id": "ce8e39b7",
   "metadata": {},
   "source": [
    "Our data set contains first and last names of customers as well as the states they live in. Usually this would be of concern, but as addressed in our project brief the customers in this specific data set have been fabricated. If we were dealing with legitimate customers, we would reach out to whomever was in charge of data security to determine if the names should be kept in the data set or removed. This would not have a great affect on our data because each customer can be indentifid by their unique user ID."
   ]
  },
  {
   "cell_type": "markdown",
   "id": "db6ef5f1",
   "metadata": {},
   "source": [
    "# 04. Regional Segmentation"
   ]
  },
  {
   "cell_type": "markdown",
   "id": "9b052af4",
   "metadata": {},
   "source": [
    "Stakeholders would like to compare spending behavior across different regions of the country. To do this, we will use the state column to group the data by region accroding to the provided source (https://simple.wikipedia.org/wiki/List_of_regions_of_the_United_States). We will then determine whether there’s a difference in spending habits between the different U.S. regions."
   ]
  },
  {
   "cell_type": "markdown",
   "id": "ef043fbe",
   "metadata": {},
   "source": [
    "## Create Region Column"
   ]
  },
  {
   "cell_type": "code",
   "execution_count": 6,
   "id": "cab3c031",
   "metadata": {},
   "outputs": [],
   "source": [
    "# Define regions\n",
    "northeast_states = ['Maine', 'New Hampshire', 'Vermont', 'Massachusetts', 'Rhode Island', 'Connecticut', 'New York', 'Pennsylvania', 'New Jersey']\n",
    "midwest_states = ['Wisconsin', 'Michigan', 'Illinois', 'Indiana', 'Ohio', 'North Dakota', 'South Dakota', 'Nebraska', 'Kansas', 'Minnesota', 'Iowa', 'Missouri']\n",
    "south_states = ['Delaware', 'Alabama', 'Maryland', 'District of Columbia', 'Virginia', 'West Virginia', 'North Carolina', 'South Carolina', 'Georgia', 'Florida', 'Kentucky', 'Tennessee', 'Mississippi', 'ALabama', 'Oklahoma', 'Texas', 'Arkansas', 'Louisiana']\n",
    "west_states = ['Idaho', 'Montana', 'Wyoming', 'Nevada', 'Utah', 'Colorado', 'Arizona', 'New Mexico', 'Alaska', 'Washington', 'Oregon', 'California', 'Hawaii']"
   ]
  },
  {
   "cell_type": "code",
   "execution_count": 7,
   "id": "8f618608",
   "metadata": {},
   "outputs": [],
   "source": [
    "# Define northeast with loc function\n",
    "ords_prods_merge.loc[ords_prods_merge['STATE'].isin(northeast_states), 'region'] = 'Northeast'"
   ]
  },
  {
   "cell_type": "code",
   "execution_count": 8,
   "id": "e5ace102",
   "metadata": {},
   "outputs": [],
   "source": [
    "# Define midwest with loc function\n",
    "ords_prods_merge.loc[ords_prods_merge['STATE'].isin(midwest_states), 'region'] = 'Midwest'"
   ]
  },
  {
   "cell_type": "code",
   "execution_count": 9,
   "id": "fd16529d",
   "metadata": {},
   "outputs": [],
   "source": [
    "# Define south with loc function\n",
    "ords_prods_merge.loc[ords_prods_merge['STATE'].isin(south_states), 'region'] = 'South'"
   ]
  },
  {
   "cell_type": "code",
   "execution_count": 10,
   "id": "937dccc6",
   "metadata": {},
   "outputs": [],
   "source": [
    "# Define west with loc function\n",
    "ords_prods_merge.loc[ords_prods_merge['STATE'].isin(west_states), 'region'] = 'West'"
   ]
  },
  {
   "cell_type": "code",
   "execution_count": 11,
   "id": "4e71248e",
   "metadata": {},
   "outputs": [
    {
     "data": {
      "text/plain": [
       "region\n",
       "South        10791885\n",
       "West          8292913\n",
       "Midwest       7597325\n",
       "Northeast     5722736\n",
       "Name: count, dtype: int64"
      ]
     },
     "execution_count": 11,
     "metadata": {},
     "output_type": "execute_result"
    }
   ],
   "source": [
    "ords_prods_merge['region'].value_counts()"
   ]
  },
  {
   "cell_type": "markdown",
   "id": "9a0b60b1",
   "metadata": {},
   "source": [
    "## Determine Spending Behavior by Region"
   ]
  },
  {
   "cell_type": "code",
   "execution_count": 12,
   "id": "5e3b5ced",
   "metadata": {},
   "outputs": [],
   "source": [
    "# Create crosstab with region and spending_flag columns\n",
    "crosstab = pd.crosstab(ords_prods_merge['region'], ords_prods_merge['spending_flag'], dropna = False)"
   ]
  },
  {
   "cell_type": "code",
   "execution_count": 13,
   "id": "6cf4b5be",
   "metadata": {},
   "outputs": [
    {
     "data": {
      "text/html": [
       "<div>\n",
       "<style scoped>\n",
       "    .dataframe tbody tr th:only-of-type {\n",
       "        vertical-align: middle;\n",
       "    }\n",
       "\n",
       "    .dataframe tbody tr th {\n",
       "        vertical-align: top;\n",
       "    }\n",
       "\n",
       "    .dataframe thead th {\n",
       "        text-align: right;\n",
       "    }\n",
       "</style>\n",
       "<table border=\"1\" class=\"dataframe\">\n",
       "  <thead>\n",
       "    <tr style=\"text-align: right;\">\n",
       "      <th>spending_flag</th>\n",
       "      <th>High spender</th>\n",
       "      <th>Low spender</th>\n",
       "    </tr>\n",
       "    <tr>\n",
       "      <th>region</th>\n",
       "      <th></th>\n",
       "      <th></th>\n",
       "    </tr>\n",
       "  </thead>\n",
       "  <tbody>\n",
       "    <tr>\n",
       "      <th>Midwest</th>\n",
       "      <td>155975</td>\n",
       "      <td>7441350</td>\n",
       "    </tr>\n",
       "    <tr>\n",
       "      <th>Northeast</th>\n",
       "      <td>108225</td>\n",
       "      <td>5614511</td>\n",
       "    </tr>\n",
       "    <tr>\n",
       "      <th>South</th>\n",
       "      <td>209691</td>\n",
       "      <td>10582194</td>\n",
       "    </tr>\n",
       "    <tr>\n",
       "      <th>West</th>\n",
       "      <td>160354</td>\n",
       "      <td>8132559</td>\n",
       "    </tr>\n",
       "  </tbody>\n",
       "</table>\n",
       "</div>"
      ],
      "text/plain": [
       "spending_flag  High spender  Low spender\n",
       "region                                  \n",
       "Midwest              155975      7441350\n",
       "Northeast            108225      5614511\n",
       "South                209691     10582194\n",
       "West                 160354      8132559"
      ]
     },
     "metadata": {},
     "output_type": "display_data"
    }
   ],
   "source": [
    "display(crosstab)"
   ]
  },
  {
   "cell_type": "code",
   "execution_count": 14,
   "id": "fc770bbe",
   "metadata": {},
   "outputs": [],
   "source": [
    "# Look at normalization of each region\n",
    "crosstab_norm = pd.crosstab(ords_prods_merge['region'], ords_prods_merge['spending_flag'], dropna = False, normalize = 'index')"
   ]
  },
  {
   "cell_type": "code",
   "execution_count": 15,
   "id": "fa451a0a",
   "metadata": {},
   "outputs": [
    {
     "data": {
      "text/html": [
       "<div>\n",
       "<style scoped>\n",
       "    .dataframe tbody tr th:only-of-type {\n",
       "        vertical-align: middle;\n",
       "    }\n",
       "\n",
       "    .dataframe tbody tr th {\n",
       "        vertical-align: top;\n",
       "    }\n",
       "\n",
       "    .dataframe thead th {\n",
       "        text-align: right;\n",
       "    }\n",
       "</style>\n",
       "<table border=\"1\" class=\"dataframe\">\n",
       "  <thead>\n",
       "    <tr style=\"text-align: right;\">\n",
       "      <th>spending_flag</th>\n",
       "      <th>High spender</th>\n",
       "      <th>Low spender</th>\n",
       "    </tr>\n",
       "    <tr>\n",
       "      <th>region</th>\n",
       "      <th></th>\n",
       "      <th></th>\n",
       "    </tr>\n",
       "  </thead>\n",
       "  <tbody>\n",
       "    <tr>\n",
       "      <th>Midwest</th>\n",
       "      <td>0.020530</td>\n",
       "      <td>0.979470</td>\n",
       "    </tr>\n",
       "    <tr>\n",
       "      <th>Northeast</th>\n",
       "      <td>0.018911</td>\n",
       "      <td>0.981089</td>\n",
       "    </tr>\n",
       "    <tr>\n",
       "      <th>South</th>\n",
       "      <td>0.019430</td>\n",
       "      <td>0.980570</td>\n",
       "    </tr>\n",
       "    <tr>\n",
       "      <th>West</th>\n",
       "      <td>0.019336</td>\n",
       "      <td>0.980664</td>\n",
       "    </tr>\n",
       "  </tbody>\n",
       "</table>\n",
       "</div>"
      ],
      "text/plain": [
       "spending_flag  High spender  Low spender\n",
       "region                                  \n",
       "Midwest            0.020530     0.979470\n",
       "Northeast          0.018911     0.981089\n",
       "South              0.019430     0.980570\n",
       "West               0.019336     0.980664"
      ]
     },
     "metadata": {},
     "output_type": "display_data"
    }
   ],
   "source": [
    "display(crosstab_norm)"
   ]
  },
  {
   "cell_type": "code",
   "execution_count": 16,
   "id": "c22e1673",
   "metadata": {},
   "outputs": [
    {
     "data": {
      "text/html": [
       "<div>\n",
       "<style scoped>\n",
       "    .dataframe tbody tr th:only-of-type {\n",
       "        vertical-align: middle;\n",
       "    }\n",
       "\n",
       "    .dataframe tbody tr th {\n",
       "        vertical-align: top;\n",
       "    }\n",
       "\n",
       "    .dataframe thead th {\n",
       "        text-align: right;\n",
       "    }\n",
       "</style>\n",
       "<table border=\"1\" class=\"dataframe\">\n",
       "  <thead>\n",
       "    <tr style=\"text-align: right;\">\n",
       "      <th>spending_flag</th>\n",
       "      <th>High spender</th>\n",
       "      <th>Low spender</th>\n",
       "    </tr>\n",
       "    <tr>\n",
       "      <th>region</th>\n",
       "      <th></th>\n",
       "      <th></th>\n",
       "    </tr>\n",
       "  </thead>\n",
       "  <tbody>\n",
       "    <tr>\n",
       "      <th>Midwest</th>\n",
       "      <td>2.053025</td>\n",
       "      <td>97.946975</td>\n",
       "    </tr>\n",
       "    <tr>\n",
       "      <th>Northeast</th>\n",
       "      <td>1.891141</td>\n",
       "      <td>98.108859</td>\n",
       "    </tr>\n",
       "    <tr>\n",
       "      <th>South</th>\n",
       "      <td>1.943043</td>\n",
       "      <td>98.056957</td>\n",
       "    </tr>\n",
       "    <tr>\n",
       "      <th>West</th>\n",
       "      <td>1.933627</td>\n",
       "      <td>98.066373</td>\n",
       "    </tr>\n",
       "  </tbody>\n",
       "</table>\n",
       "</div>"
      ],
      "text/plain": [
       "spending_flag  High spender  Low spender\n",
       "region                                  \n",
       "Midwest            2.053025    97.946975\n",
       "Northeast          1.891141    98.108859\n",
       "South              1.943043    98.056957\n",
       "West               1.933627    98.066373"
      ]
     },
     "execution_count": 16,
     "metadata": {},
     "output_type": "execute_result"
    }
   ],
   "source": [
    "# Calculate by percentage\n",
    "crosstab_norm * 100"
   ]
  },
  {
   "cell_type": "code",
   "execution_count": 17,
   "id": "3913dcd3",
   "metadata": {},
   "outputs": [
    {
     "data": {
      "text/html": [
       "<div>\n",
       "<style scoped>\n",
       "    .dataframe tbody tr th:only-of-type {\n",
       "        vertical-align: middle;\n",
       "    }\n",
       "\n",
       "    .dataframe tbody tr th {\n",
       "        vertical-align: top;\n",
       "    }\n",
       "\n",
       "    .dataframe thead tr th {\n",
       "        text-align: left;\n",
       "    }\n",
       "\n",
       "    .dataframe thead tr:last-of-type th {\n",
       "        text-align: right;\n",
       "    }\n",
       "</style>\n",
       "<table border=\"1\" class=\"dataframe\">\n",
       "  <thead>\n",
       "    <tr>\n",
       "      <th></th>\n",
       "      <th>prices</th>\n",
       "    </tr>\n",
       "    <tr>\n",
       "      <th></th>\n",
       "      <th>mean</th>\n",
       "    </tr>\n",
       "    <tr>\n",
       "      <th>region</th>\n",
       "      <th></th>\n",
       "    </tr>\n",
       "  </thead>\n",
       "  <tbody>\n",
       "    <tr>\n",
       "      <th>Midwest</th>\n",
       "      <td>7.792584</td>\n",
       "    </tr>\n",
       "    <tr>\n",
       "      <th>Northeast</th>\n",
       "      <td>7.782409</td>\n",
       "    </tr>\n",
       "    <tr>\n",
       "      <th>South</th>\n",
       "      <td>7.794918</td>\n",
       "    </tr>\n",
       "    <tr>\n",
       "      <th>West</th>\n",
       "      <td>7.790355</td>\n",
       "    </tr>\n",
       "  </tbody>\n",
       "</table>\n",
       "</div>"
      ],
      "text/plain": [
       "             prices\n",
       "               mean\n",
       "region             \n",
       "Midwest    7.792584\n",
       "Northeast  7.782409\n",
       "South      7.794918\n",
       "West       7.790355"
      ]
     },
     "execution_count": 17,
     "metadata": {},
     "output_type": "execute_result"
    }
   ],
   "source": [
    "# Look at mean price for each region\n",
    "ords_prods_merge.groupby('region').agg({'prices':['mean']})"
   ]
  },
  {
   "cell_type": "markdown",
   "id": "569a6a85",
   "metadata": {},
   "source": [
    "# 05. Excluding Low-Activity Customers"
   ]
  },
  {
   "cell_type": "markdown",
   "id": "5f79f0c0",
   "metadata": {},
   "source": [
    "Low-activity customers that do not create much revenue are not of interest to our stakeholders. We will exclude customers with less than 5 orders from our data."
   ]
  },
  {
   "cell_type": "code",
   "execution_count": 18,
   "id": "b9fd7d28",
   "metadata": {},
   "outputs": [],
   "source": [
    "# Use loc function to create low activity flag\n",
    "ords_prods_merge.loc[ords_prods_merge['max_order'] < 5, 'user_activity'] = 'low activity'"
   ]
  },
  {
   "cell_type": "code",
   "execution_count": 19,
   "id": "dc4493db",
   "metadata": {},
   "outputs": [],
   "source": [
    "# Use loc function to create high activity flag\n",
    "ords_prods_merge.loc[ords_prods_merge['max_order'] >= 5, 'user_activity'] = 'high activity'"
   ]
  },
  {
   "cell_type": "code",
   "execution_count": 20,
   "id": "c8cc95d1",
   "metadata": {},
   "outputs": [
    {
     "data": {
      "text/html": [
       "<div>\n",
       "<style scoped>\n",
       "    .dataframe tbody tr th:only-of-type {\n",
       "        vertical-align: middle;\n",
       "    }\n",
       "\n",
       "    .dataframe tbody tr th {\n",
       "        vertical-align: top;\n",
       "    }\n",
       "\n",
       "    .dataframe thead th {\n",
       "        text-align: right;\n",
       "    }\n",
       "</style>\n",
       "<table border=\"1\" class=\"dataframe\">\n",
       "  <thead>\n",
       "    <tr style=\"text-align: right;\">\n",
       "      <th></th>\n",
       "      <th>order_id</th>\n",
       "      <th>user_id</th>\n",
       "      <th>user_order_number</th>\n",
       "      <th>orders_day_of_week</th>\n",
       "      <th>order_hour_of_day</th>\n",
       "      <th>days_since_prior_order</th>\n",
       "      <th>product_id</th>\n",
       "      <th>add_to_cart_order</th>\n",
       "      <th>reordered</th>\n",
       "      <th>_merge</th>\n",
       "      <th>...</th>\n",
       "      <th>Gender</th>\n",
       "      <th>STATE</th>\n",
       "      <th>Age</th>\n",
       "      <th>date_joined</th>\n",
       "      <th>n_dependants</th>\n",
       "      <th>marital_status</th>\n",
       "      <th>income</th>\n",
       "      <th>merge_indicator</th>\n",
       "      <th>region</th>\n",
       "      <th>user_activity</th>\n",
       "    </tr>\n",
       "  </thead>\n",
       "  <tbody>\n",
       "    <tr>\n",
       "      <th>0</th>\n",
       "      <td>2539329</td>\n",
       "      <td>1</td>\n",
       "      <td>1</td>\n",
       "      <td>2</td>\n",
       "      <td>8</td>\n",
       "      <td>NaN</td>\n",
       "      <td>196</td>\n",
       "      <td>1</td>\n",
       "      <td>0</td>\n",
       "      <td>both</td>\n",
       "      <td>...</td>\n",
       "      <td>Female</td>\n",
       "      <td>Alabama</td>\n",
       "      <td>31</td>\n",
       "      <td>2/17/2019</td>\n",
       "      <td>3</td>\n",
       "      <td>married</td>\n",
       "      <td>40423</td>\n",
       "      <td>both</td>\n",
       "      <td>South</td>\n",
       "      <td>high activity</td>\n",
       "    </tr>\n",
       "    <tr>\n",
       "      <th>1</th>\n",
       "      <td>2398795</td>\n",
       "      <td>1</td>\n",
       "      <td>2</td>\n",
       "      <td>3</td>\n",
       "      <td>7</td>\n",
       "      <td>15.0</td>\n",
       "      <td>196</td>\n",
       "      <td>1</td>\n",
       "      <td>1</td>\n",
       "      <td>both</td>\n",
       "      <td>...</td>\n",
       "      <td>Female</td>\n",
       "      <td>Alabama</td>\n",
       "      <td>31</td>\n",
       "      <td>2/17/2019</td>\n",
       "      <td>3</td>\n",
       "      <td>married</td>\n",
       "      <td>40423</td>\n",
       "      <td>both</td>\n",
       "      <td>South</td>\n",
       "      <td>high activity</td>\n",
       "    </tr>\n",
       "    <tr>\n",
       "      <th>2</th>\n",
       "      <td>473747</td>\n",
       "      <td>1</td>\n",
       "      <td>3</td>\n",
       "      <td>3</td>\n",
       "      <td>12</td>\n",
       "      <td>21.0</td>\n",
       "      <td>196</td>\n",
       "      <td>1</td>\n",
       "      <td>1</td>\n",
       "      <td>both</td>\n",
       "      <td>...</td>\n",
       "      <td>Female</td>\n",
       "      <td>Alabama</td>\n",
       "      <td>31</td>\n",
       "      <td>2/17/2019</td>\n",
       "      <td>3</td>\n",
       "      <td>married</td>\n",
       "      <td>40423</td>\n",
       "      <td>both</td>\n",
       "      <td>South</td>\n",
       "      <td>high activity</td>\n",
       "    </tr>\n",
       "    <tr>\n",
       "      <th>3</th>\n",
       "      <td>2254736</td>\n",
       "      <td>1</td>\n",
       "      <td>4</td>\n",
       "      <td>4</td>\n",
       "      <td>7</td>\n",
       "      <td>29.0</td>\n",
       "      <td>196</td>\n",
       "      <td>1</td>\n",
       "      <td>1</td>\n",
       "      <td>both</td>\n",
       "      <td>...</td>\n",
       "      <td>Female</td>\n",
       "      <td>Alabama</td>\n",
       "      <td>31</td>\n",
       "      <td>2/17/2019</td>\n",
       "      <td>3</td>\n",
       "      <td>married</td>\n",
       "      <td>40423</td>\n",
       "      <td>both</td>\n",
       "      <td>South</td>\n",
       "      <td>high activity</td>\n",
       "    </tr>\n",
       "    <tr>\n",
       "      <th>4</th>\n",
       "      <td>431534</td>\n",
       "      <td>1</td>\n",
       "      <td>5</td>\n",
       "      <td>4</td>\n",
       "      <td>15</td>\n",
       "      <td>28.0</td>\n",
       "      <td>196</td>\n",
       "      <td>1</td>\n",
       "      <td>1</td>\n",
       "      <td>both</td>\n",
       "      <td>...</td>\n",
       "      <td>Female</td>\n",
       "      <td>Alabama</td>\n",
       "      <td>31</td>\n",
       "      <td>2/17/2019</td>\n",
       "      <td>3</td>\n",
       "      <td>married</td>\n",
       "      <td>40423</td>\n",
       "      <td>both</td>\n",
       "      <td>South</td>\n",
       "      <td>high activity</td>\n",
       "    </tr>\n",
       "  </tbody>\n",
       "</table>\n",
       "<p>5 rows × 35 columns</p>\n",
       "</div>"
      ],
      "text/plain": [
       "   order_id  user_id  user_order_number  orders_day_of_week  \\\n",
       "0   2539329        1                  1                   2   \n",
       "1   2398795        1                  2                   3   \n",
       "2    473747        1                  3                   3   \n",
       "3   2254736        1                  4                   4   \n",
       "4    431534        1                  5                   4   \n",
       "\n",
       "   order_hour_of_day  days_since_prior_order  product_id  add_to_cart_order  \\\n",
       "0                  8                     NaN         196                  1   \n",
       "1                  7                    15.0         196                  1   \n",
       "2                 12                    21.0         196                  1   \n",
       "3                  7                    29.0         196                  1   \n",
       "4                 15                    28.0         196                  1   \n",
       "\n",
       "   reordered _merge  ...  Gender    STATE  Age  date_joined n_dependants  \\\n",
       "0          0   both  ...  Female  Alabama   31    2/17/2019            3   \n",
       "1          1   both  ...  Female  Alabama   31    2/17/2019            3   \n",
       "2          1   both  ...  Female  Alabama   31    2/17/2019            3   \n",
       "3          1   both  ...  Female  Alabama   31    2/17/2019            3   \n",
       "4          1   both  ...  Female  Alabama   31    2/17/2019            3   \n",
       "\n",
       "  marital_status income  merge_indicator region  user_activity  \n",
       "0        married  40423             both  South  high activity  \n",
       "1        married  40423             both  South  high activity  \n",
       "2        married  40423             both  South  high activity  \n",
       "3        married  40423             both  South  high activity  \n",
       "4        married  40423             both  South  high activity  \n",
       "\n",
       "[5 rows x 35 columns]"
      ]
     },
     "execution_count": 20,
     "metadata": {},
     "output_type": "execute_result"
    }
   ],
   "source": [
    "# View updated dataframe\n",
    "ords_prods_merge.head()"
   ]
  },
  {
   "cell_type": "code",
   "execution_count": 21,
   "id": "a4d03762",
   "metadata": {},
   "outputs": [
    {
     "data": {
      "text/plain": [
       "user_activity\n",
       "high activity    30964564\n",
       "low activity      1440295\n",
       "Name: count, dtype: int64"
      ]
     },
     "execution_count": 21,
     "metadata": {},
     "output_type": "execute_result"
    }
   ],
   "source": [
    "# Check value counts for both flags\n",
    "ords_prods_merge['user_activity'].value_counts()"
   ]
  },
  {
   "cell_type": "code",
   "execution_count": 22,
   "id": "21612d93",
   "metadata": {},
   "outputs": [],
   "source": [
    "# Create subset with only high activity customers\n",
    "high_activity_customers = ords_prods_merge[ords_prods_merge['user_activity'] == 'high activity']"
   ]
  },
  {
   "cell_type": "code",
   "execution_count": 23,
   "id": "85514fc5",
   "metadata": {},
   "outputs": [
    {
     "data": {
      "text/plain": [
       "(30964564, 35)"
      ]
     },
     "execution_count": 23,
     "metadata": {},
     "output_type": "execute_result"
    }
   ],
   "source": [
    "# Make sure dimensions of subset match up with the count of high activity users\n",
    "high_activity_customers.shape"
   ]
  },
  {
   "cell_type": "code",
   "execution_count": 24,
   "id": "fa302d9e",
   "metadata": {},
   "outputs": [],
   "source": [
    "# Export subset as pickle file \n",
    "high_activity_customers.to_pickle(os.path.join(path, '02 Data','Prepared Data', 'highactivitycustomers.pkl'))"
   ]
  },
  {
   "cell_type": "markdown",
   "id": "f96bd3ec",
   "metadata": {},
   "source": [
    "# 06. Customer Profiling"
   ]
  },
  {
   "cell_type": "markdown",
   "id": "efbcd520",
   "metadata": {},
   "source": [
    "The marketing and business strategy units at Instacart want to create more-relevant marketing strategies for different products and are, thus, curious about customer profiling in their database. Create a profiling variable based on age, income, certain goods in the “department_id” column, and number of dependents. You might also use the “orders_day_of_week” and “order_hour_of_day” columns if you can think of a way they would impact customer profiles. (Hint: As an example, try thinking of what characteristics would lead you to the profile “Single adult” or “Young parent.”)"
   ]
  },
  {
   "cell_type": "markdown",
   "id": "fe513036",
   "metadata": {},
   "source": [
    "## Income vs Age"
   ]
  },
  {
   "cell_type": "markdown",
   "id": "d3500476",
   "metadata": {},
   "source": [
    "I will start by classifying each user as young adult (<30), adult (30-64), or senior (65+). I will also classify by low income, middle income, and high income. Income classifcations are according to https://www.weforum.org/agenda/2022/07/household-income-distribution-wealth-inequality-united-states/#:~:text=Here%E2%80%99s%20a%20look%20at%20the%20economic%20class%20breakdowns,2%20Middle%20class%3A%20%2452%2C000-%24156%2C000%203%20Lower%20class%3A%20%3C%2452%2C000"
   ]
  },
  {
   "cell_type": "code",
   "execution_count": 25,
   "id": "fc4bf322",
   "metadata": {},
   "outputs": [],
   "source": [
    "# Define low income young adult\n",
    "ords_prods_merge.loc[(ords_prods_merge['income'] < 52000) & (ords_prods_merge['Age'] < 30), 'age_income_loc'] = 'low income young adult'"
   ]
  },
  {
   "cell_type": "code",
   "execution_count": 26,
   "id": "2711fef0",
   "metadata": {},
   "outputs": [],
   "source": [
    "# Define middle income young adult\n",
    "ords_prods_merge.loc[(ords_prods_merge['income'] >= 52000) & (ords_prods_merge['income'] <= 156000) & (ords_prods_merge['Age'] < 30), 'age_income_loc'] = 'middle income young adult'"
   ]
  },
  {
   "cell_type": "code",
   "execution_count": 27,
   "id": "a010f206",
   "metadata": {},
   "outputs": [],
   "source": [
    "# Define high income young adult\n",
    "ords_prods_merge.loc[(ords_prods_merge['income'] >156000) &  (ords_prods_merge['Age'] < 30), 'age_income_loc'] = 'high income young adult'"
   ]
  },
  {
   "cell_type": "code",
   "execution_count": 28,
   "id": "6700fd5e",
   "metadata": {},
   "outputs": [],
   "source": [
    "# Define low income adult\n",
    "ords_prods_merge.loc[(ords_prods_merge['income'] < 52000) & (ords_prods_merge['Age'] >= 30) & (ords_prods_merge['Age'] < 65), 'age_income_loc'] = 'low income adult'"
   ]
  },
  {
   "cell_type": "code",
   "execution_count": 29,
   "id": "9d97d239",
   "metadata": {},
   "outputs": [],
   "source": [
    "# Define middle income adult\n",
    "ords_prods_merge.loc[(ords_prods_merge['income'] >= 52000) & (ords_prods_merge['income'] <= 156000) & (ords_prods_merge['Age'] >= 30) & (ords_prods_merge['Age'] < 65), 'age_income_loc'] = 'middle income adult'"
   ]
  },
  {
   "cell_type": "code",
   "execution_count": 30,
   "id": "15591e52",
   "metadata": {},
   "outputs": [],
   "source": [
    "# Define high income adult\n",
    "ords_prods_merge.loc[(ords_prods_merge['income'] > 156000) & (ords_prods_merge['Age'] >= 30) & (ords_prods_merge['Age'] < 65), 'age_income_loc'] = 'high income adult'"
   ]
  },
  {
   "cell_type": "code",
   "execution_count": 31,
   "id": "074b9cdf",
   "metadata": {},
   "outputs": [],
   "source": [
    "# Define low income senior\n",
    "ords_prods_merge.loc[(ords_prods_merge['income'] < 52000) & (ords_prods_merge['Age'] >= 65), 'age_income_loc'] = 'low income senior'"
   ]
  },
  {
   "cell_type": "code",
   "execution_count": 32,
   "id": "44d17e59",
   "metadata": {},
   "outputs": [],
   "source": [
    "# Define middle income senior\n",
    "ords_prods_merge.loc[(ords_prods_merge['income'] >= 52000) & (ords_prods_merge['income'] <= 156000) & (ords_prods_merge['Age'] >= 65), 'age_income_loc'] = 'middle income senior'"
   ]
  },
  {
   "cell_type": "code",
   "execution_count": 33,
   "id": "2f32a67c",
   "metadata": {},
   "outputs": [],
   "source": [
    "# Define high income senior\n",
    "ords_prods_merge.loc[(ords_prods_merge['income'] > 156000) & (ords_prods_merge['Age'] >= 65), 'age_income_loc'] = 'high income senior'"
   ]
  },
  {
   "cell_type": "code",
   "execution_count": 34,
   "id": "2416212d",
   "metadata": {},
   "outputs": [
    {
     "data": {
      "text/html": [
       "<div>\n",
       "<style scoped>\n",
       "    .dataframe tbody tr th:only-of-type {\n",
       "        vertical-align: middle;\n",
       "    }\n",
       "\n",
       "    .dataframe tbody tr th {\n",
       "        vertical-align: top;\n",
       "    }\n",
       "\n",
       "    .dataframe thead th {\n",
       "        text-align: right;\n",
       "    }\n",
       "</style>\n",
       "<table border=\"1\" class=\"dataframe\">\n",
       "  <thead>\n",
       "    <tr style=\"text-align: right;\">\n",
       "      <th></th>\n",
       "      <th>order_id</th>\n",
       "      <th>user_id</th>\n",
       "      <th>user_order_number</th>\n",
       "      <th>orders_day_of_week</th>\n",
       "      <th>order_hour_of_day</th>\n",
       "      <th>days_since_prior_order</th>\n",
       "      <th>product_id</th>\n",
       "      <th>add_to_cart_order</th>\n",
       "      <th>reordered</th>\n",
       "      <th>_merge</th>\n",
       "      <th>...</th>\n",
       "      <th>STATE</th>\n",
       "      <th>Age</th>\n",
       "      <th>date_joined</th>\n",
       "      <th>n_dependants</th>\n",
       "      <th>marital_status</th>\n",
       "      <th>income</th>\n",
       "      <th>merge_indicator</th>\n",
       "      <th>region</th>\n",
       "      <th>user_activity</th>\n",
       "      <th>age_income_loc</th>\n",
       "    </tr>\n",
       "  </thead>\n",
       "  <tbody>\n",
       "    <tr>\n",
       "      <th>0</th>\n",
       "      <td>2539329</td>\n",
       "      <td>1</td>\n",
       "      <td>1</td>\n",
       "      <td>2</td>\n",
       "      <td>8</td>\n",
       "      <td>NaN</td>\n",
       "      <td>196</td>\n",
       "      <td>1</td>\n",
       "      <td>0</td>\n",
       "      <td>both</td>\n",
       "      <td>...</td>\n",
       "      <td>Alabama</td>\n",
       "      <td>31</td>\n",
       "      <td>2/17/2019</td>\n",
       "      <td>3</td>\n",
       "      <td>married</td>\n",
       "      <td>40423</td>\n",
       "      <td>both</td>\n",
       "      <td>South</td>\n",
       "      <td>high activity</td>\n",
       "      <td>low income adult</td>\n",
       "    </tr>\n",
       "    <tr>\n",
       "      <th>1</th>\n",
       "      <td>2398795</td>\n",
       "      <td>1</td>\n",
       "      <td>2</td>\n",
       "      <td>3</td>\n",
       "      <td>7</td>\n",
       "      <td>15.0</td>\n",
       "      <td>196</td>\n",
       "      <td>1</td>\n",
       "      <td>1</td>\n",
       "      <td>both</td>\n",
       "      <td>...</td>\n",
       "      <td>Alabama</td>\n",
       "      <td>31</td>\n",
       "      <td>2/17/2019</td>\n",
       "      <td>3</td>\n",
       "      <td>married</td>\n",
       "      <td>40423</td>\n",
       "      <td>both</td>\n",
       "      <td>South</td>\n",
       "      <td>high activity</td>\n",
       "      <td>low income adult</td>\n",
       "    </tr>\n",
       "    <tr>\n",
       "      <th>2</th>\n",
       "      <td>473747</td>\n",
       "      <td>1</td>\n",
       "      <td>3</td>\n",
       "      <td>3</td>\n",
       "      <td>12</td>\n",
       "      <td>21.0</td>\n",
       "      <td>196</td>\n",
       "      <td>1</td>\n",
       "      <td>1</td>\n",
       "      <td>both</td>\n",
       "      <td>...</td>\n",
       "      <td>Alabama</td>\n",
       "      <td>31</td>\n",
       "      <td>2/17/2019</td>\n",
       "      <td>3</td>\n",
       "      <td>married</td>\n",
       "      <td>40423</td>\n",
       "      <td>both</td>\n",
       "      <td>South</td>\n",
       "      <td>high activity</td>\n",
       "      <td>low income adult</td>\n",
       "    </tr>\n",
       "    <tr>\n",
       "      <th>3</th>\n",
       "      <td>2254736</td>\n",
       "      <td>1</td>\n",
       "      <td>4</td>\n",
       "      <td>4</td>\n",
       "      <td>7</td>\n",
       "      <td>29.0</td>\n",
       "      <td>196</td>\n",
       "      <td>1</td>\n",
       "      <td>1</td>\n",
       "      <td>both</td>\n",
       "      <td>...</td>\n",
       "      <td>Alabama</td>\n",
       "      <td>31</td>\n",
       "      <td>2/17/2019</td>\n",
       "      <td>3</td>\n",
       "      <td>married</td>\n",
       "      <td>40423</td>\n",
       "      <td>both</td>\n",
       "      <td>South</td>\n",
       "      <td>high activity</td>\n",
       "      <td>low income adult</td>\n",
       "    </tr>\n",
       "    <tr>\n",
       "      <th>4</th>\n",
       "      <td>431534</td>\n",
       "      <td>1</td>\n",
       "      <td>5</td>\n",
       "      <td>4</td>\n",
       "      <td>15</td>\n",
       "      <td>28.0</td>\n",
       "      <td>196</td>\n",
       "      <td>1</td>\n",
       "      <td>1</td>\n",
       "      <td>both</td>\n",
       "      <td>...</td>\n",
       "      <td>Alabama</td>\n",
       "      <td>31</td>\n",
       "      <td>2/17/2019</td>\n",
       "      <td>3</td>\n",
       "      <td>married</td>\n",
       "      <td>40423</td>\n",
       "      <td>both</td>\n",
       "      <td>South</td>\n",
       "      <td>high activity</td>\n",
       "      <td>low income adult</td>\n",
       "    </tr>\n",
       "  </tbody>\n",
       "</table>\n",
       "<p>5 rows × 36 columns</p>\n",
       "</div>"
      ],
      "text/plain": [
       "   order_id  user_id  user_order_number  orders_day_of_week  \\\n",
       "0   2539329        1                  1                   2   \n",
       "1   2398795        1                  2                   3   \n",
       "2    473747        1                  3                   3   \n",
       "3   2254736        1                  4                   4   \n",
       "4    431534        1                  5                   4   \n",
       "\n",
       "   order_hour_of_day  days_since_prior_order  product_id  add_to_cart_order  \\\n",
       "0                  8                     NaN         196                  1   \n",
       "1                  7                    15.0         196                  1   \n",
       "2                 12                    21.0         196                  1   \n",
       "3                  7                    29.0         196                  1   \n",
       "4                 15                    28.0         196                  1   \n",
       "\n",
       "   reordered _merge  ...    STATE  Age  date_joined  n_dependants  \\\n",
       "0          0   both  ...  Alabama   31    2/17/2019             3   \n",
       "1          1   both  ...  Alabama   31    2/17/2019             3   \n",
       "2          1   both  ...  Alabama   31    2/17/2019             3   \n",
       "3          1   both  ...  Alabama   31    2/17/2019             3   \n",
       "4          1   both  ...  Alabama   31    2/17/2019             3   \n",
       "\n",
       "  marital_status income merge_indicator  region  user_activity  \\\n",
       "0        married  40423            both   South  high activity   \n",
       "1        married  40423            both   South  high activity   \n",
       "2        married  40423            both   South  high activity   \n",
       "3        married  40423            both   South  high activity   \n",
       "4        married  40423            both   South  high activity   \n",
       "\n",
       "     age_income_loc  \n",
       "0  low income adult  \n",
       "1  low income adult  \n",
       "2  low income adult  \n",
       "3  low income adult  \n",
       "4  low income adult  \n",
       "\n",
       "[5 rows x 36 columns]"
      ]
     },
     "execution_count": 34,
     "metadata": {},
     "output_type": "execute_result"
    }
   ],
   "source": [
    "# View updated dataframe\n",
    "ords_prods_merge.head()"
   ]
  },
  {
   "cell_type": "code",
   "execution_count": 35,
   "id": "ebf10b07",
   "metadata": {},
   "outputs": [],
   "source": [
    "# Check value counts of new column\n",
    "distribution = ords_prods_merge['age_income_loc'].value_counts()"
   ]
  },
  {
   "cell_type": "code",
   "execution_count": 36,
   "id": "27647702",
   "metadata": {},
   "outputs": [
    {
     "data": {
      "text/plain": [
       "age_income_loc\n",
       "middle income adult          13949461\n",
       "middle income senior          6627494\n",
       "middle income young adult     4996840\n",
       "low income adult              2059960\n",
       "high income adult             1729913\n",
       "high income senior            1169364\n",
       "low income young adult        1041267\n",
       "low income senior              778226\n",
       "high income young adult         52334\n",
       "Name: count, dtype: int64"
      ]
     },
     "metadata": {},
     "output_type": "display_data"
    }
   ],
   "source": [
    "display(distribution)"
   ]
  },
  {
   "cell_type": "code",
   "execution_count": 37,
   "id": "2f23a0f4",
   "metadata": {},
   "outputs": [],
   "source": [
    "# Calculate normalization of age vs income groups\n",
    "normalized = distribution / len(ords_prods_merge)"
   ]
  },
  {
   "cell_type": "code",
   "execution_count": 38,
   "id": "e24d2ca1",
   "metadata": {},
   "outputs": [
    {
     "data": {
      "text/plain": [
       "age_income_loc\n",
       "middle income adult          0.430474\n",
       "middle income senior         0.204522\n",
       "middle income young adult    0.154200\n",
       "low income adult             0.063569\n",
       "high income adult            0.053384\n",
       "high income senior           0.036086\n",
       "low income young adult       0.032133\n",
       "low income senior            0.024016\n",
       "high income young adult      0.001615\n",
       "Name: count, dtype: float64"
      ]
     },
     "metadata": {},
     "output_type": "display_data"
    }
   ],
   "source": [
    "display(normalized)"
   ]
  },
  {
   "cell_type": "markdown",
   "id": "ee9570db",
   "metadata": {},
   "source": [
    "## Family Status"
   ]
  },
  {
   "cell_type": "markdown",
   "id": "1b01e3a8",
   "metadata": {},
   "source": [
    "I will flag each customer as either childfree or parent based on if they have dependants and if they are married/unmarried."
   ]
  },
  {
   "cell_type": "code",
   "execution_count": 40,
   "id": "94fe7992",
   "metadata": {},
   "outputs": [],
   "source": [
    "# Create flag for family status of customer\n",
    "ords_prods_merge.loc[(ords_prods_merge['n_dependants'] == 0) & (ords_prods_merge['marital_status'] == 'married'), 'family_status'] = 'married, childfree'"
   ]
  },
  {
   "cell_type": "code",
   "execution_count": 41,
   "id": "3e2ad2a5",
   "metadata": {},
   "outputs": [],
   "source": [
    "condition = (ords_prods_merge['n_dependants'] == 0) & (ords_prods_merge['marital_status'].isin(['divorced/widowed', 'single', 'living with parents and siblings']))\n",
    "ords_prods_merge.loc[condition, 'family_status'] = 'unmarried, childfree'"
   ]
  },
  {
   "cell_type": "code",
   "execution_count": 42,
   "id": "b43edd1f",
   "metadata": {},
   "outputs": [],
   "source": [
    "condition = (ords_prods_merge['n_dependants'] != 0) & (ords_prods_merge['marital_status'].isin(['divorced/widowed', 'single', 'living with parents and siblings']))\n",
    "ords_prods_merge.loc[condition, 'family_status'] = 'unmarried, parent'"
   ]
  },
  {
   "cell_type": "code",
   "execution_count": 43,
   "id": "81af37f6",
   "metadata": {},
   "outputs": [],
   "source": [
    "ords_prods_merge.loc[(ords_prods_merge['n_dependants'] != 0) & (ords_prods_merge['marital_status'] == 'married'), 'family_status'] = 'married, parent'"
   ]
  },
  {
   "cell_type": "code",
   "execution_count": 44,
   "id": "e663c374",
   "metadata": {},
   "outputs": [
    {
     "data": {
      "text/html": [
       "<div>\n",
       "<style scoped>\n",
       "    .dataframe tbody tr th:only-of-type {\n",
       "        vertical-align: middle;\n",
       "    }\n",
       "\n",
       "    .dataframe tbody tr th {\n",
       "        vertical-align: top;\n",
       "    }\n",
       "\n",
       "    .dataframe thead th {\n",
       "        text-align: right;\n",
       "    }\n",
       "</style>\n",
       "<table border=\"1\" class=\"dataframe\">\n",
       "  <thead>\n",
       "    <tr style=\"text-align: right;\">\n",
       "      <th></th>\n",
       "      <th>order_id</th>\n",
       "      <th>user_id</th>\n",
       "      <th>user_order_number</th>\n",
       "      <th>orders_day_of_week</th>\n",
       "      <th>order_hour_of_day</th>\n",
       "      <th>days_since_prior_order</th>\n",
       "      <th>product_id</th>\n",
       "      <th>add_to_cart_order</th>\n",
       "      <th>reordered</th>\n",
       "      <th>_merge</th>\n",
       "      <th>...</th>\n",
       "      <th>Age</th>\n",
       "      <th>date_joined</th>\n",
       "      <th>n_dependants</th>\n",
       "      <th>marital_status</th>\n",
       "      <th>income</th>\n",
       "      <th>merge_indicator</th>\n",
       "      <th>region</th>\n",
       "      <th>user_activity</th>\n",
       "      <th>age_income_loc</th>\n",
       "      <th>family_status</th>\n",
       "    </tr>\n",
       "  </thead>\n",
       "  <tbody>\n",
       "    <tr>\n",
       "      <th>0</th>\n",
       "      <td>2539329</td>\n",
       "      <td>1</td>\n",
       "      <td>1</td>\n",
       "      <td>2</td>\n",
       "      <td>8</td>\n",
       "      <td>NaN</td>\n",
       "      <td>196</td>\n",
       "      <td>1</td>\n",
       "      <td>0</td>\n",
       "      <td>both</td>\n",
       "      <td>...</td>\n",
       "      <td>31</td>\n",
       "      <td>2/17/2019</td>\n",
       "      <td>3</td>\n",
       "      <td>married</td>\n",
       "      <td>40423</td>\n",
       "      <td>both</td>\n",
       "      <td>South</td>\n",
       "      <td>high activity</td>\n",
       "      <td>low income adult</td>\n",
       "      <td>married, parent</td>\n",
       "    </tr>\n",
       "    <tr>\n",
       "      <th>1</th>\n",
       "      <td>2398795</td>\n",
       "      <td>1</td>\n",
       "      <td>2</td>\n",
       "      <td>3</td>\n",
       "      <td>7</td>\n",
       "      <td>15.0</td>\n",
       "      <td>196</td>\n",
       "      <td>1</td>\n",
       "      <td>1</td>\n",
       "      <td>both</td>\n",
       "      <td>...</td>\n",
       "      <td>31</td>\n",
       "      <td>2/17/2019</td>\n",
       "      <td>3</td>\n",
       "      <td>married</td>\n",
       "      <td>40423</td>\n",
       "      <td>both</td>\n",
       "      <td>South</td>\n",
       "      <td>high activity</td>\n",
       "      <td>low income adult</td>\n",
       "      <td>married, parent</td>\n",
       "    </tr>\n",
       "    <tr>\n",
       "      <th>2</th>\n",
       "      <td>473747</td>\n",
       "      <td>1</td>\n",
       "      <td>3</td>\n",
       "      <td>3</td>\n",
       "      <td>12</td>\n",
       "      <td>21.0</td>\n",
       "      <td>196</td>\n",
       "      <td>1</td>\n",
       "      <td>1</td>\n",
       "      <td>both</td>\n",
       "      <td>...</td>\n",
       "      <td>31</td>\n",
       "      <td>2/17/2019</td>\n",
       "      <td>3</td>\n",
       "      <td>married</td>\n",
       "      <td>40423</td>\n",
       "      <td>both</td>\n",
       "      <td>South</td>\n",
       "      <td>high activity</td>\n",
       "      <td>low income adult</td>\n",
       "      <td>married, parent</td>\n",
       "    </tr>\n",
       "    <tr>\n",
       "      <th>3</th>\n",
       "      <td>2254736</td>\n",
       "      <td>1</td>\n",
       "      <td>4</td>\n",
       "      <td>4</td>\n",
       "      <td>7</td>\n",
       "      <td>29.0</td>\n",
       "      <td>196</td>\n",
       "      <td>1</td>\n",
       "      <td>1</td>\n",
       "      <td>both</td>\n",
       "      <td>...</td>\n",
       "      <td>31</td>\n",
       "      <td>2/17/2019</td>\n",
       "      <td>3</td>\n",
       "      <td>married</td>\n",
       "      <td>40423</td>\n",
       "      <td>both</td>\n",
       "      <td>South</td>\n",
       "      <td>high activity</td>\n",
       "      <td>low income adult</td>\n",
       "      <td>married, parent</td>\n",
       "    </tr>\n",
       "    <tr>\n",
       "      <th>4</th>\n",
       "      <td>431534</td>\n",
       "      <td>1</td>\n",
       "      <td>5</td>\n",
       "      <td>4</td>\n",
       "      <td>15</td>\n",
       "      <td>28.0</td>\n",
       "      <td>196</td>\n",
       "      <td>1</td>\n",
       "      <td>1</td>\n",
       "      <td>both</td>\n",
       "      <td>...</td>\n",
       "      <td>31</td>\n",
       "      <td>2/17/2019</td>\n",
       "      <td>3</td>\n",
       "      <td>married</td>\n",
       "      <td>40423</td>\n",
       "      <td>both</td>\n",
       "      <td>South</td>\n",
       "      <td>high activity</td>\n",
       "      <td>low income adult</td>\n",
       "      <td>married, parent</td>\n",
       "    </tr>\n",
       "  </tbody>\n",
       "</table>\n",
       "<p>5 rows × 37 columns</p>\n",
       "</div>"
      ],
      "text/plain": [
       "   order_id  user_id  user_order_number  orders_day_of_week  \\\n",
       "0   2539329        1                  1                   2   \n",
       "1   2398795        1                  2                   3   \n",
       "2    473747        1                  3                   3   \n",
       "3   2254736        1                  4                   4   \n",
       "4    431534        1                  5                   4   \n",
       "\n",
       "   order_hour_of_day  days_since_prior_order  product_id  add_to_cart_order  \\\n",
       "0                  8                     NaN         196                  1   \n",
       "1                  7                    15.0         196                  1   \n",
       "2                 12                    21.0         196                  1   \n",
       "3                  7                    29.0         196                  1   \n",
       "4                 15                    28.0         196                  1   \n",
       "\n",
       "   reordered _merge  ... Age  date_joined  n_dependants  marital_status  \\\n",
       "0          0   both  ...  31    2/17/2019             3         married   \n",
       "1          1   both  ...  31    2/17/2019             3         married   \n",
       "2          1   both  ...  31    2/17/2019             3         married   \n",
       "3          1   both  ...  31    2/17/2019             3         married   \n",
       "4          1   both  ...  31    2/17/2019             3         married   \n",
       "\n",
       "  income merge_indicator region  user_activity    age_income_loc  \\\n",
       "0  40423            both  South  high activity  low income adult   \n",
       "1  40423            both  South  high activity  low income adult   \n",
       "2  40423            both  South  high activity  low income adult   \n",
       "3  40423            both  South  high activity  low income adult   \n",
       "4  40423            both  South  high activity  low income adult   \n",
       "\n",
       "     family_status  \n",
       "0  married, parent  \n",
       "1  married, parent  \n",
       "2  married, parent  \n",
       "3  married, parent  \n",
       "4  married, parent  \n",
       "\n",
       "[5 rows x 37 columns]"
      ]
     },
     "execution_count": 44,
     "metadata": {},
     "output_type": "execute_result"
    }
   ],
   "source": [
    "# View updated dataframe\n",
    "ords_prods_merge.head()"
   ]
  },
  {
   "cell_type": "code",
   "execution_count": 45,
   "id": "b55a8ab6",
   "metadata": {},
   "outputs": [
    {
     "data": {
      "text/plain": [
       "32404859"
      ]
     },
     "execution_count": 45,
     "metadata": {},
     "output_type": "execute_result"
    }
   ],
   "source": [
    "# Check length of new column\n",
    "len(ords_prods_merge['family_status'])"
   ]
  },
  {
   "cell_type": "code",
   "execution_count": 46,
   "id": "a87c0206",
   "metadata": {},
   "outputs": [],
   "source": [
    "# Calculate distribution of new column\n",
    "fam_distribution = ords_prods_merge['family_status'].value_counts()"
   ]
  },
  {
   "cell_type": "code",
   "execution_count": 47,
   "id": "503ac246",
   "metadata": {},
   "outputs": [
    {
     "data": {
      "text/plain": [
       "family_status\n",
       "married, parent         22756753\n",
       "unmarried, childfree     8097503\n",
       "unmarried, parent        1550603\n",
       "Name: count, dtype: int64"
      ]
     },
     "metadata": {},
     "output_type": "display_data"
    }
   ],
   "source": [
    "display(fam_distribution)"
   ]
  },
  {
   "cell_type": "code",
   "execution_count": 48,
   "id": "72f90755",
   "metadata": {},
   "outputs": [],
   "source": [
    "# Calculate normalization of dependant status\n",
    "fam_dis_normal = fam_distribution / len(ords_prods_merge)"
   ]
  },
  {
   "cell_type": "code",
   "execution_count": 49,
   "id": "7d54fcaf",
   "metadata": {},
   "outputs": [
    {
     "data": {
      "text/plain": [
       "family_status\n",
       "married, parent         0.702264\n",
       "unmarried, childfree    0.249885\n",
       "unmarried, parent       0.047851\n",
       "Name: count, dtype: float64"
      ]
     },
     "metadata": {},
     "output_type": "display_data"
    }
   ],
   "source": [
    "display(fam_dis_normal)"
   ]
  },
  {
   "cell_type": "markdown",
   "id": "de00d006",
   "metadata": {},
   "source": [
    "# 07. Aggregating Data from Customer Profiles"
   ]
  },
  {
   "cell_type": "markdown",
   "id": "0327e0b4",
   "metadata": {},
   "source": [
    "## Age vs Income"
   ]
  },
  {
   "cell_type": "code",
   "execution_count": 50,
   "id": "e9d49b9c",
   "metadata": {},
   "outputs": [
    {
     "data": {
      "text/html": [
       "<div>\n",
       "<style scoped>\n",
       "    .dataframe tbody tr th:only-of-type {\n",
       "        vertical-align: middle;\n",
       "    }\n",
       "\n",
       "    .dataframe tbody tr th {\n",
       "        vertical-align: top;\n",
       "    }\n",
       "\n",
       "    .dataframe thead th {\n",
       "        text-align: right;\n",
       "    }\n",
       "</style>\n",
       "<table border=\"1\" class=\"dataframe\">\n",
       "  <thead>\n",
       "    <tr style=\"text-align: right;\">\n",
       "      <th></th>\n",
       "      <th>mean</th>\n",
       "      <th>min</th>\n",
       "      <th>max</th>\n",
       "    </tr>\n",
       "    <tr>\n",
       "      <th>age_income_loc</th>\n",
       "      <th></th>\n",
       "      <th></th>\n",
       "      <th></th>\n",
       "    </tr>\n",
       "  </thead>\n",
       "  <tbody>\n",
       "    <tr>\n",
       "      <th>high income adult</th>\n",
       "      <td>10.921269</td>\n",
       "      <td>0.0</td>\n",
       "      <td>30.0</td>\n",
       "    </tr>\n",
       "    <tr>\n",
       "      <th>high income senior</th>\n",
       "      <td>10.935486</td>\n",
       "      <td>0.0</td>\n",
       "      <td>30.0</td>\n",
       "    </tr>\n",
       "    <tr>\n",
       "      <th>high income young adult</th>\n",
       "      <td>10.233835</td>\n",
       "      <td>0.0</td>\n",
       "      <td>30.0</td>\n",
       "    </tr>\n",
       "    <tr>\n",
       "      <th>low income adult</th>\n",
       "      <td>11.599392</td>\n",
       "      <td>0.0</td>\n",
       "      <td>30.0</td>\n",
       "    </tr>\n",
       "    <tr>\n",
       "      <th>low income senior</th>\n",
       "      <td>11.497626</td>\n",
       "      <td>0.0</td>\n",
       "      <td>30.0</td>\n",
       "    </tr>\n",
       "    <tr>\n",
       "      <th>low income young adult</th>\n",
       "      <td>11.563914</td>\n",
       "      <td>0.0</td>\n",
       "      <td>30.0</td>\n",
       "    </tr>\n",
       "    <tr>\n",
       "      <th>middle income adult</th>\n",
       "      <td>11.066034</td>\n",
       "      <td>0.0</td>\n",
       "      <td>30.0</td>\n",
       "    </tr>\n",
       "    <tr>\n",
       "      <th>middle income senior</th>\n",
       "      <td>11.055276</td>\n",
       "      <td>0.0</td>\n",
       "      <td>30.0</td>\n",
       "    </tr>\n",
       "    <tr>\n",
       "      <th>middle income young adult</th>\n",
       "      <td>11.029558</td>\n",
       "      <td>0.0</td>\n",
       "      <td>30.0</td>\n",
       "    </tr>\n",
       "  </tbody>\n",
       "</table>\n",
       "</div>"
      ],
      "text/plain": [
       "                                mean  min   max\n",
       "age_income_loc                                 \n",
       "high income adult          10.921269  0.0  30.0\n",
       "high income senior         10.935486  0.0  30.0\n",
       "high income young adult    10.233835  0.0  30.0\n",
       "low income adult           11.599392  0.0  30.0\n",
       "low income senior          11.497626  0.0  30.0\n",
       "low income young adult     11.563914  0.0  30.0\n",
       "middle income adult        11.066034  0.0  30.0\n",
       "middle income senior       11.055276  0.0  30.0\n",
       "middle income young adult  11.029558  0.0  30.0"
      ]
     },
     "execution_count": 50,
     "metadata": {},
     "output_type": "execute_result"
    }
   ],
   "source": [
    "# Determine usage frequency of each age vs. income group by aggregating days_since_prior_order column\n",
    "ords_prods_merge.groupby('age_income_loc')['days_since_prior_order'].agg(['mean', 'min', 'max'])"
   ]
  },
  {
   "cell_type": "code",
   "execution_count": 51,
   "id": "fa120924",
   "metadata": {},
   "outputs": [
    {
     "data": {
      "text/html": [
       "<div>\n",
       "<style scoped>\n",
       "    .dataframe tbody tr th:only-of-type {\n",
       "        vertical-align: middle;\n",
       "    }\n",
       "\n",
       "    .dataframe tbody tr th {\n",
       "        vertical-align: top;\n",
       "    }\n",
       "\n",
       "    .dataframe thead th {\n",
       "        text-align: right;\n",
       "    }\n",
       "</style>\n",
       "<table border=\"1\" class=\"dataframe\">\n",
       "  <thead>\n",
       "    <tr style=\"text-align: right;\">\n",
       "      <th></th>\n",
       "      <th>mean</th>\n",
       "      <th>min</th>\n",
       "      <th>max</th>\n",
       "    </tr>\n",
       "    <tr>\n",
       "      <th>age_income_loc</th>\n",
       "      <th></th>\n",
       "      <th></th>\n",
       "      <th></th>\n",
       "    </tr>\n",
       "  </thead>\n",
       "  <tbody>\n",
       "    <tr>\n",
       "      <th>high income adult</th>\n",
       "      <td>7.940265</td>\n",
       "      <td>1.0</td>\n",
       "      <td>25.0</td>\n",
       "    </tr>\n",
       "    <tr>\n",
       "      <th>high income senior</th>\n",
       "      <td>7.954955</td>\n",
       "      <td>1.0</td>\n",
       "      <td>25.0</td>\n",
       "    </tr>\n",
       "    <tr>\n",
       "      <th>high income young adult</th>\n",
       "      <td>7.803276</td>\n",
       "      <td>1.0</td>\n",
       "      <td>25.0</td>\n",
       "    </tr>\n",
       "    <tr>\n",
       "      <th>low income adult</th>\n",
       "      <td>6.720412</td>\n",
       "      <td>1.0</td>\n",
       "      <td>25.0</td>\n",
       "    </tr>\n",
       "    <tr>\n",
       "      <th>low income senior</th>\n",
       "      <td>6.500395</td>\n",
       "      <td>1.0</td>\n",
       "      <td>25.0</td>\n",
       "    </tr>\n",
       "    <tr>\n",
       "      <th>low income young adult</th>\n",
       "      <td>6.962268</td>\n",
       "      <td>1.0</td>\n",
       "      <td>25.0</td>\n",
       "    </tr>\n",
       "    <tr>\n",
       "      <th>middle income adult</th>\n",
       "      <td>7.930591</td>\n",
       "      <td>1.0</td>\n",
       "      <td>25.0</td>\n",
       "    </tr>\n",
       "    <tr>\n",
       "      <th>middle income senior</th>\n",
       "      <td>7.920826</td>\n",
       "      <td>1.0</td>\n",
       "      <td>25.0</td>\n",
       "    </tr>\n",
       "    <tr>\n",
       "      <th>middle income young adult</th>\n",
       "      <td>7.954097</td>\n",
       "      <td>1.0</td>\n",
       "      <td>25.0</td>\n",
       "    </tr>\n",
       "  </tbody>\n",
       "</table>\n",
       "</div>"
      ],
      "text/plain": [
       "                               mean  min   max\n",
       "age_income_loc                                \n",
       "high income adult          7.940265  1.0  25.0\n",
       "high income senior         7.954955  1.0  25.0\n",
       "high income young adult    7.803276  1.0  25.0\n",
       "low income adult           6.720412  1.0  25.0\n",
       "low income senior          6.500395  1.0  25.0\n",
       "low income young adult     6.962268  1.0  25.0\n",
       "middle income adult        7.930591  1.0  25.0\n",
       "middle income senior       7.920826  1.0  25.0\n",
       "middle income young adult  7.954097  1.0  25.0"
      ]
     },
     "execution_count": 51,
     "metadata": {},
     "output_type": "execute_result"
    }
   ],
   "source": [
    "# Caculate mean, min, and max of expenditure for age vs income groups\n",
    "ords_prods_merge.groupby('age_income_loc')['prices'].agg(['mean', 'min', 'max'])"
   ]
  },
  {
   "cell_type": "markdown",
   "id": "1bd1b4e4",
   "metadata": {},
   "source": [
    "## Family Status"
   ]
  },
  {
   "cell_type": "code",
   "execution_count": 52,
   "id": "9f611882",
   "metadata": {},
   "outputs": [
    {
     "data": {
      "text/html": [
       "<div>\n",
       "<style scoped>\n",
       "    .dataframe tbody tr th:only-of-type {\n",
       "        vertical-align: middle;\n",
       "    }\n",
       "\n",
       "    .dataframe tbody tr th {\n",
       "        vertical-align: top;\n",
       "    }\n",
       "\n",
       "    .dataframe thead th {\n",
       "        text-align: right;\n",
       "    }\n",
       "</style>\n",
       "<table border=\"1\" class=\"dataframe\">\n",
       "  <thead>\n",
       "    <tr style=\"text-align: right;\">\n",
       "      <th></th>\n",
       "      <th>mean</th>\n",
       "      <th>min</th>\n",
       "      <th>max</th>\n",
       "    </tr>\n",
       "    <tr>\n",
       "      <th>family_status</th>\n",
       "      <th></th>\n",
       "      <th></th>\n",
       "      <th></th>\n",
       "    </tr>\n",
       "  </thead>\n",
       "  <tbody>\n",
       "    <tr>\n",
       "      <th>married, parent</th>\n",
       "      <td>11.116175</td>\n",
       "      <td>0.0</td>\n",
       "      <td>30.0</td>\n",
       "    </tr>\n",
       "    <tr>\n",
       "      <th>unmarried, childfree</th>\n",
       "      <td>11.080805</td>\n",
       "      <td>0.0</td>\n",
       "      <td>30.0</td>\n",
       "    </tr>\n",
       "    <tr>\n",
       "      <th>unmarried, parent</th>\n",
       "      <td>11.048170</td>\n",
       "      <td>0.0</td>\n",
       "      <td>30.0</td>\n",
       "    </tr>\n",
       "  </tbody>\n",
       "</table>\n",
       "</div>"
      ],
      "text/plain": [
       "                           mean  min   max\n",
       "family_status                             \n",
       "married, parent       11.116175  0.0  30.0\n",
       "unmarried, childfree  11.080805  0.0  30.0\n",
       "unmarried, parent     11.048170  0.0  30.0"
      ]
     },
     "execution_count": 52,
     "metadata": {},
     "output_type": "execute_result"
    }
   ],
   "source": [
    "# Determine usage frequency of each family status group by aggregating days_since_prior_order column\n",
    "ords_prods_merge.groupby('family_status')['days_since_prior_order'].agg(['mean', 'min', 'max'])"
   ]
  },
  {
   "cell_type": "code",
   "execution_count": 53,
   "id": "082d6325",
   "metadata": {},
   "outputs": [
    {
     "data": {
      "text/html": [
       "<div>\n",
       "<style scoped>\n",
       "    .dataframe tbody tr th:only-of-type {\n",
       "        vertical-align: middle;\n",
       "    }\n",
       "\n",
       "    .dataframe tbody tr th {\n",
       "        vertical-align: top;\n",
       "    }\n",
       "\n",
       "    .dataframe thead th {\n",
       "        text-align: right;\n",
       "    }\n",
       "</style>\n",
       "<table border=\"1\" class=\"dataframe\">\n",
       "  <thead>\n",
       "    <tr style=\"text-align: right;\">\n",
       "      <th></th>\n",
       "      <th>mean</th>\n",
       "      <th>min</th>\n",
       "      <th>max</th>\n",
       "    </tr>\n",
       "    <tr>\n",
       "      <th>family_status</th>\n",
       "      <th></th>\n",
       "      <th></th>\n",
       "      <th></th>\n",
       "    </tr>\n",
       "  </thead>\n",
       "  <tbody>\n",
       "    <tr>\n",
       "      <th>married, parent</th>\n",
       "      <td>7.790695</td>\n",
       "      <td>1.0</td>\n",
       "      <td>25.0</td>\n",
       "    </tr>\n",
       "    <tr>\n",
       "      <th>unmarried, childfree</th>\n",
       "      <td>7.789975</td>\n",
       "      <td>1.0</td>\n",
       "      <td>25.0</td>\n",
       "    </tr>\n",
       "    <tr>\n",
       "      <th>unmarried, parent</th>\n",
       "      <td>7.800712</td>\n",
       "      <td>1.0</td>\n",
       "      <td>25.0</td>\n",
       "    </tr>\n",
       "  </tbody>\n",
       "</table>\n",
       "</div>"
      ],
      "text/plain": [
       "                          mean  min   max\n",
       "family_status                            \n",
       "married, parent       7.790695  1.0  25.0\n",
       "unmarried, childfree  7.789975  1.0  25.0\n",
       "unmarried, parent     7.800712  1.0  25.0"
      ]
     },
     "execution_count": 53,
     "metadata": {},
     "output_type": "execute_result"
    }
   ],
   "source": [
    "# Caculate mean, min, and max of expenditure for family status groups\n",
    "ords_prods_merge.groupby('family_status')['prices'].agg(['mean', 'min', 'max'])"
   ]
  },
  {
   "cell_type": "markdown",
   "id": "10d9924f",
   "metadata": {},
   "source": [
    "# 08. Exporting Data"
   ]
  },
  {
   "cell_type": "code",
   "execution_count": 54,
   "id": "378c78a0",
   "metadata": {},
   "outputs": [],
   "source": [
    "# Export dataframe as pickle file\n",
    "ords_prods_merge.to_pickle(os.path.join(path, '02 Data','Prepared Data', 'final2_dataframe.pkl'))"
   ]
  },
  {
   "cell_type": "code",
   "execution_count": 55,
   "id": "4de300b6",
   "metadata": {},
   "outputs": [],
   "source": [
    "# Export age vs income chart\n",
    "bar.figure.savefig(os.path.join(path, '04 Analysis','Visualizations', 'age_income.png'))"
   ]
  },
  {
   "cell_type": "code",
   "execution_count": null,
   "id": "9695d116",
   "metadata": {},
   "outputs": [],
   "source": []
  }
 ],
 "metadata": {
  "kernelspec": {
   "display_name": "Python 3 (ipykernel)",
   "language": "python",
   "name": "python3"
  },
  "language_info": {
   "codemirror_mode": {
    "name": "ipython",
    "version": 3
   },
   "file_extension": ".py",
   "mimetype": "text/x-python",
   "name": "python",
   "nbconvert_exporter": "python",
   "pygments_lexer": "ipython3",
   "version": "3.11.5"
  }
 },
 "nbformat": 4,
 "nbformat_minor": 5
}
